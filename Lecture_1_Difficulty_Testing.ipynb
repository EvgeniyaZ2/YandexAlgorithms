{
 "cells": [
  {
   "cell_type": "markdown",
   "metadata": {},
   "source": [
    "### Task1\n",
    "Here is a string (UTF-8 format). We should find the most repeatable symbol.\n",
    "If we have more than one symbol which has the same number of replays we can return any of them."
   ]
  },
  {
   "cell_type": "code",
   "execution_count": 1,
   "metadata": {},
   "outputs": [
    {
     "name": "stdout",
     "output_type": "stream",
     "text": [
      "fggsaiidreg\n",
      "g\n"
     ]
    }
   ],
   "source": [
    "\"\"\"Solution 0\"\"\"\n",
    "\n",
    "s = input()\n",
    "print(max(map(lambda x: (s.count(x), x), s))[1])"
   ]
  },
  {
   "cell_type": "code",
   "execution_count": 2,
   "metadata": {},
   "outputs": [
    {
     "name": "stdout",
     "output_type": "stream",
     "text": [
      "trrqe4sdd44t\n",
      "4\n"
     ]
    }
   ],
   "source": [
    "\"\"\"Solution 1 O(N**2) difficulty and O(N) memory\"\"\"\n",
    "s = input() # read a line\n",
    "ans = \"\" # empty variable - string\n",
    "anscnt = 0 # value 0\n",
    "for i in range(len(s)): # run through the positions in the string\n",
    "    nowcnt = 0 # counter = 0\n",
    "    for j in range(len(s)): # for each position run through the positions in the string once again\n",
    "        if s[i] == s[j]: # if we meet the same symbol\n",
    "            nowcnt += 1 # we add 1 to our counter\n",
    "    if nowcnt > anscnt: # if the value of our counter is greater than previous result\n",
    "        ans = s[i] # we put our symbol to the variable\n",
    "        anscnt = nowcnt # and save the number of replays for it\n",
    "print(ans) # print our symbol"
   ]
  },
  {
   "cell_type": "code",
   "execution_count": 3,
   "metadata": {},
   "outputs": [
    {
     "name": "stdout",
     "output_type": "stream",
     "text": [
      "2ццу34уааа\n",
      "а\n"
     ]
    }
   ],
   "source": [
    "\"\"\"Solution 2 O(NK) difficulty and O(N+K)=O(N) memory\"\"\"\n",
    "s = input() # read a line\n",
    "ans = \"\" # empty variable\n",
    "anscnt = 0 # value 0\n",
    "for now in set(s): # run through the symbols in the set (no replays)\n",
    "    nowcnt = 0 # counter = 0\n",
    "    for j in range(len(s)): # for each symbol run through the positions in the string\n",
    "        if now == s[j]: # if we meet the same symbol\n",
    "            nowcnt += 1 # we add 1 to our counter\n",
    "    if nowcnt > anscnt: # if the value of our counter is greater than previous result\n",
    "        ans = now # we put our symbol to the variable\n",
    "        anscnt = nowcnt # and save the number of replays for it\n",
    "print(ans) # print our symbol"
   ]
  },
  {
   "cell_type": "code",
   "execution_count": 4,
   "metadata": {},
   "outputs": [
    {
     "name": "stdout",
     "output_type": "stream",
     "text": [
      "ццвсыав23445виивп\n",
      "в\n"
     ]
    }
   ],
   "source": [
    "\"\"\"Solution 3 O(N+K) = O(N) difficulty and O(K) memory\"\"\"\n",
    "s = input() # read a line\n",
    "ans = \"\" # empty variable\n",
    "anscnt = 0 # value 0\n",
    "dct = {} # create an empty dict\n",
    "for now in s: # run through the symbols in the string\n",
    "    if now not in dct: # if symbol is not in the dict\n",
    "        dct[now] = 0 # we add this symbol to the dict with key - 0\n",
    "    dct[now] += 1 # we add 1 for each replay\n",
    "#for key in dct: # run through the keys in dict - not necessary\n",
    "    if dct[now] > anscnt: # if the value is greater than previous result\n",
    "        anscnt = dct[now] # we put our symbol to the variable\n",
    "        ans = now # and save the number of replays for it\n",
    "print(ans) # print our symbol"
   ]
  },
  {
   "cell_type": "markdown",
   "metadata": {},
   "source": [
    "### Task2\n",
    "Sum of the sequence"
   ]
  },
  {
   "cell_type": "code",
   "execution_count": null,
   "metadata": {},
   "outputs": [],
   "source": [
    "\"\"\"Solution1\"\"\"\n",
    "seq = list(map(int, input().split()))\n",
    "if len(seq) == 0: # Here we don't need this special case, our program will work correctly\n",
    "    print(0)\n",
    "else:\n",
    "    seqsum = seq[0]\n",
    "    for i in range(1, len(seq)):\n",
    "        seqsum += seq[i]\n",
    "    print(seqsum)"
   ]
  },
  {
   "cell_type": "code",
   "execution_count": null,
   "metadata": {},
   "outputs": [],
   "source": [
    "\"\"\"Solution2\"\"\" \n",
    "seq = list(map(int, input().split()))\n",
    "seqsum = 0\n",
    "for i in range(1, len(seq)):\n",
    "    seqsum += seq[i]\n",
    "print(seqsum)"
   ]
  },
  {
   "cell_type": "markdown",
   "metadata": {},
   "source": [
    "### Task3\n",
    "Maximum of the sequence"
   ]
  },
  {
   "cell_type": "code",
   "execution_count": null,
   "metadata": {},
   "outputs": [],
   "source": [
    "\"\"\"Solution1\"\"\"\n",
    "seq = list(map(int, input().split()))\n",
    "seqmax = 0 # не будет работать, если в последовательности все числа отрицательные\n",
    "# т.к. тогда мы выведем 0, но он не входит в последовательность\n",
    "for i in range(len(seq)):\n",
    "    if seq[i] > seqmax:\n",
    "        seqmax = seq[i]\n",
    "print(seqmax)"
   ]
  },
  {
   "cell_type": "code",
   "execution_count": null,
   "metadata": {},
   "outputs": [],
   "source": [
    "\"\"\"Solution2\"\"\"\n",
    "seq = list(map(int, input().split()))\n",
    "if len(seq) == 0: # Here we need this special case, otherwise our program will crash with empty seq\n",
    "    print(\"-inf\")\n",
    "else:\n",
    "    seqmax = seq[0]\n",
    "    for i in range(1,len(seq)):\n",
    "        if seq[i] > seqmax:\n",
    "            seqmax = seq[i]\n",
    "    print(seqmax)"
   ]
  },
  {
   "cell_type": "markdown",
   "metadata": {},
   "source": [
    "### Task4\n",
    "Quadratic equation"
   ]
  },
  {
   "cell_type": "code",
   "execution_count": null,
   "metadata": {},
   "outputs": [],
   "source": [
    "from math import sqrt\n",
    "a,b,c = list(map(int, input().split()))\n",
    "if a == 0:\n",
    "    if b != 0:\n",
    "        print(-c/b)\n",
    "    if b == 0 and c == 0:\n",
    "        print(\"Infinite number of solutions\")\n",
    "else:\n",
    "    d = b**2  - 4*a*c\n",
    "#     print(sqrt(d))\n",
    "    if d == 0:\n",
    "        x1 = - b/(2*a)\n",
    "        print(x1)\n",
    "    elif d > 0:\n",
    "        x1 = (-b -sqrt(d))/(2*a)\n",
    "        x2 = (-b +sqrt(d))/(2*a)\n",
    "        if x1 < x2:\n",
    "            print(x1,x2)\n",
    "        else:\n",
    "            print(x2,x1)"
   ]
  }
 ],
 "metadata": {
  "kernelspec": {
   "display_name": "Python 3",
   "language": "python",
   "name": "python3"
  },
  "language_info": {
   "codemirror_mode": {
    "name": "ipython",
    "version": 3
   },
   "file_extension": ".py",
   "mimetype": "text/x-python",
   "name": "python",
   "nbconvert_exporter": "python",
   "pygments_lexer": "ipython3",
   "version": "3.8.5"
  }
 },
 "nbformat": 4,
 "nbformat_minor": 4
}
